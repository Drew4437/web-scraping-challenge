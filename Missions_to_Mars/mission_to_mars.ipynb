{
 "cells": [
  {
   "cell_type": "code",
   "execution_count": 1,
   "metadata": {},
   "outputs": [],
   "source": [
    "# ------------------------------------------------------------\n",
    "#  Step 1: Setup\n",
    "# ------------------------------------------------------------\n",
    "from bs4 import BeautifulSoup as soup\n",
    "from splinter import Browser\n",
    "import pandas as pd\n",
    "import aux_func as aux\n",
    "\n",
    "\n",
    "# initialize splinter browser\n",
    "browser = Browser('chrome', \n",
    "                  **{\"executable_path\": \"C:/Users/Drew's Surface/AppData/Local/chromedriver\"}, \n",
    "                  headless=False)"
   ]
  },
  {
   "cell_type": "code",
   "execution_count": 2,
   "metadata": {},
   "outputs": [
    {
     "name": "stdout",
     "output_type": "stream",
     "text": [
      "Mars InSight's 'Mole' Is Moving Again\n",
      "The NASA lander's robotic arm seems to have helped its heat probe burrow almost 2 centimeters (3/4 of an inch) since last week.\n"
     ]
    }
   ],
   "source": [
    "# ------------------------------------------------------------\n",
    "#  Step 2: NASA Mars News Scrape from NASA\n",
    "# ------------------------------------------------------------\n",
    "url = 'https://mars.nasa.gov/news/?page=0&per_page=40&order=publish_date+desc%2Ccreated_at+desc&search=&category=19%2C165%2C184%2C204&blank_scope=Latest'\n",
    "webpage = aux.getParsedWebpage(browser, url)\n",
    "\n",
    "# pull the most recent headlines + info from the website\n",
    "headlines_grouped = soup.find_all(webpage, 'h3', class_=None)\n",
    "text_grouped = soup.find_all(webpage, 'div', class_='article_teaser_body')\n",
    "\n",
    "print(aux.getParsedTextList(headlines_grouped)[0])\n",
    "print(aux.getParsedTextList(text_grouped)[0])"
   ]
  },
  {
   "cell_type": "code",
   "execution_count": 3,
   "metadata": {},
   "outputs": [
    {
     "name": "stdout",
     "output_type": "stream",
     "text": [
      "https://www.jpl.nasa.gov/spaceimages/images/largesize/PIA17356_hires.jpg\n",
      "PIA17356\n"
     ]
    }
   ],
   "source": [
    "# ------------------------------------------------------------\n",
    "#  Step 3: JPL Mars Space Images - Featured Image\n",
    "# ------------------------------------------------------------\n",
    "url = 'https://www.jpl.nasa.gov/spaceimages/?search=&category=Mars'\n",
    "webpage = aux.getParsedWebpage(browser, url)\n",
    "\n",
    "# get and construct url for largest size of featured image available\n",
    "featured_url = soup.find(webpage, 'a', class_='button fancybox').get('data-fancybox-href')\n",
    "featured_filename = featured_url.split('/')[4].split('_')[0]\n",
    "featured_url = f'https://www.jpl.nasa.gov/spaceimages/images/largesize/{featured_filename}_hires.jpg'\n",
    "print(featured_url)\n",
    "print(featured_filename)"
   ]
  },
  {
   "cell_type": "code",
   "execution_count": 4,
   "metadata": {},
   "outputs": [
    {
     "data": {
      "text/plain": [
       "'InSight sol 316 (2019-10-16) low -101.8ºC (-151.3ºF) high -25.7ºC (-14.3ºF)\\nwinds from the SSE at 4.7 m/s (10.5 mph) gusting to 18.2 m/s (40.8 mph)\\npressure at 7.10 hPapic.twitter.com/tXtGZA6IPW'"
      ]
     },
     "execution_count": 4,
     "metadata": {},
     "output_type": "execute_result"
    }
   ],
   "source": [
    "# ------------------------------------------------------------\n",
    "#  Step 4: Mars Weather from Twitter Scrape\n",
    "# ------------------------------------------------------------\n",
    "url = 'https://twitter.com/marswxreport?lang=en'\n",
    "webpage = aux.getParsedWebpage(browser, url)\n",
    "std_tweet_class = 'TweetTextSize TweetTextSize--normal js-tweet-text tweet-text'\n",
    "\n",
    "# pull text of most recent tweet about the weather\n",
    "recent_weather = soup.find_all(webpage, 'p', class_= std_tweet_class)[0].get_text()\n",
    "recent_weather"
   ]
  },
  {
   "cell_type": "code",
   "execution_count": 5,
   "metadata": {},
   "outputs": [
    {
     "data": {
      "text/html": [
       "<div>\n",
       "<style scoped>\n",
       "    .dataframe tbody tr th:only-of-type {\n",
       "        vertical-align: middle;\n",
       "    }\n",
       "\n",
       "    .dataframe tbody tr th {\n",
       "        vertical-align: top;\n",
       "    }\n",
       "\n",
       "    .dataframe thead th {\n",
       "        text-align: right;\n",
       "    }\n",
       "</style>\n",
       "<table border=\"1\" class=\"dataframe\">\n",
       "  <thead>\n",
       "    <tr style=\"text-align: right;\">\n",
       "      <th></th>\n",
       "      <th>Facts about Mars</th>\n",
       "    </tr>\n",
       "  </thead>\n",
       "  <tbody>\n",
       "    <tr>\n",
       "      <th>Equatorial Diameter:</th>\n",
       "      <td>6,792 km</td>\n",
       "    </tr>\n",
       "    <tr>\n",
       "      <th>Polar Diameter:</th>\n",
       "      <td>6,752 km</td>\n",
       "    </tr>\n",
       "    <tr>\n",
       "      <th>Mass:</th>\n",
       "      <td>6.39 × 10^23 kg (0.11 Earths)</td>\n",
       "    </tr>\n",
       "    <tr>\n",
       "      <th>Moons:</th>\n",
       "      <td>2 (Phobos &amp; Deimos)</td>\n",
       "    </tr>\n",
       "    <tr>\n",
       "      <th>Orbit Distance:</th>\n",
       "      <td>227,943,824 km (1.38 AU)</td>\n",
       "    </tr>\n",
       "    <tr>\n",
       "      <th>Orbit Period:</th>\n",
       "      <td>687 days (1.9 years)</td>\n",
       "    </tr>\n",
       "    <tr>\n",
       "      <th>Surface Temperature:</th>\n",
       "      <td>-87 to -5 °C</td>\n",
       "    </tr>\n",
       "    <tr>\n",
       "      <th>First Record:</th>\n",
       "      <td>2nd millennium BC</td>\n",
       "    </tr>\n",
       "    <tr>\n",
       "      <th>Recorded By:</th>\n",
       "      <td>Egyptian astronomers</td>\n",
       "    </tr>\n",
       "  </tbody>\n",
       "</table>\n",
       "</div>"
      ],
      "text/plain": [
       "                                    Facts about Mars\n",
       "Equatorial Diameter:                        6,792 km\n",
       "Polar Diameter:                             6,752 km\n",
       "Mass:                  6.39 × 10^23 kg (0.11 Earths)\n",
       "Moons:                           2 (Phobos & Deimos)\n",
       "Orbit Distance:             227,943,824 km (1.38 AU)\n",
       "Orbit Period:                   687 days (1.9 years)\n",
       "Surface Temperature:                    -87 to -5 °C\n",
       "First Record:                      2nd millennium BC\n",
       "Recorded By:                    Egyptian astronomers"
      ]
     },
     "execution_count": 5,
     "metadata": {},
     "output_type": "execute_result"
    }
   ],
   "source": [
    "# ------------------------------------------------------------\n",
    "#  Step 5: Mars Facts scrape from Space Facts\n",
    "# ------------------------------------------------------------\n",
    "url = 'https://space-facts.com/mars/'\n",
    "webpage = aux.getParsedWebpage(browser, url)\n",
    "\n",
    "# create dict to hold facts\n",
    "fact_dict = {}\n",
    "\n",
    "# get all rows in the facts table and parse into dict\n",
    "facts_all = soup.find(webpage, \n",
    "                      'table', \n",
    "                      class_='tablepress tablepress-id-p-mars').find_all('tr')\n",
    "\n",
    "for fact in facts_all:\n",
    "    fact_dict[soup.find(fact, 'strong').get_text()] = (soup.find(fact, class_='column-2').get_text())\n",
    "\n",
    "# convert to Dataframe and to HTML table\n",
    "fact_df = pd.DataFrame.from_dict(fact_dict, orient='index')\n",
    "fact_df.rename(columns={0:'Facts about Mars'}, inplace=True)\n",
    "fact_html = pd.DataFrame.to_html(fact_df)\n",
    "\n",
    "fact_df"
   ]
  },
  {
   "cell_type": "code",
   "execution_count": 6,
   "metadata": {},
   "outputs": [
    {
     "data": {
      "text/plain": [
       "[{'title': 'Syrtis Major Hemisphere Enhanced',\n",
       "  'image_url': 'http://astropedia.astrogeology.usgs.gov/download/Mars/Viking/syrtis_major_enhanced.tif/full.jpg'},\n",
       " {'title': 'Cerberus Hemisphere Enhanced',\n",
       "  'image_url': 'http://astropedia.astrogeology.usgs.gov/download/Mars/Viking/cerberus_enhanced.tif/full.jpg'},\n",
       " {'title': 'Schiaparelli Hemisphere Enhanced',\n",
       "  'image_url': 'http://astropedia.astrogeology.usgs.gov/download/Mars/Viking/schiaparelli_enhanced.tif/full.jpg'},\n",
       " {'title': 'Valles Marineris Hemisphere Enhanced',\n",
       "  'image_url': 'http://astropedia.astrogeology.usgs.gov/download/Mars/Viking/valles_marineris_enhanced.tif/full.jpg'}]"
      ]
     },
     "execution_count": 6,
     "metadata": {},
     "output_type": "execute_result"
    }
   ],
   "source": [
    "# ------------------------------------------------------------\n",
    "#  Step 6: Mars Hemispheres scrape from USGS Astrogeology site\n",
    "# ------------------------------------------------------------\n",
    "url = 'https://astrogeology.usgs.gov/search/results?q=hemisphere+enhanced&k1=target&v1=Mars'\n",
    "webpage = aux.getParsedWebpage(browser, url)\n",
    "\n",
    "# get all unique links to the photo pages first\n",
    "page_links_list = []\n",
    "page_links = soup.find_all(webpage, 'a', class_='itemLink product-item')\n",
    "[page_links_list.append(page.get('href')) for page in page_links]\n",
    "page_links_list = list(set(page_links_list))\n",
    "\n",
    "image_list = []\n",
    "\n",
    "# iterate through links and pull URL for full size images\n",
    "for link in page_links_list:\n",
    "    url = f'https://astrogeology.usgs.gov{link}'\n",
    "    webpage = aux.getParsedWebpage(browser, url)\n",
    "    \n",
    "    # get image title\n",
    "    title = soup.find(webpage, 'h2', class_='title').get_text()\n",
    "    \n",
    "    # get full size image link\n",
    "    downloads_section = soup.find(webpage, 'div', class_='downloads')\n",
    "    image_link = soup.find(downloads_section, 'a').get('href')\n",
    "    \n",
    "    # add title and full-size image url to dict\n",
    "    image_list.append({'title':title,\n",
    "                       'image_url':image_link})\n",
    "\n",
    "# create dataframe\n",
    "image_df = pd.DataFrame(image_list, columns=['title', 'image_url'])\n",
    "image_df\n",
    "image_list"
   ]
  },
  {
   "cell_type": "code",
   "execution_count": null,
   "metadata": {},
   "outputs": [],
   "source": []
  }
 ],
 "metadata": {
  "file_extension": ".py",
  "kernelspec": {
   "display_name": "Python 3",
   "language": "python",
   "name": "python3"
  },
  "language_info": {
   "codemirror_mode": {
    "name": "ipython",
    "version": 3
   },
   "file_extension": ".py",
   "mimetype": "text/x-python",
   "name": "python",
   "nbconvert_exporter": "python",
   "pygments_lexer": "ipython3",
   "version": "3.7.3"
  },
  "mimetype": "text/x-python",
  "name": "python",
  "npconvert_exporter": "python",
  "pygments_lexer": "ipython3",
  "version": 3
 },
 "nbformat": 4,
 "nbformat_minor": 2
}
